{
 "cells": [
  {
   "cell_type": "markdown",
   "metadata": {},
   "source": [
    "# NL2SQL leveraging the Azure Accelerator"
   ]
  },
  {
   "cell_type": "code",
   "execution_count": null,
   "metadata": {},
   "outputs": [],
   "source": [
    "import os\n",
    "import pandas as pd\n",
    "import pyodbc\n",
    "from langchain_openai import AzureChatOpenAI\n",
    "from langchain_community.agent_toolkits import create_sql_agent, SQLDatabaseToolkit\n",
    "# from langchain.agents import create_sql_agent \n",
    "from langchain.agents import initialize_agent\n",
    "from langchain.agents import Tool\n",
    "from langchain.agents import create_sql_agent  # No longer in agent_toolkits\n",
    "from langchain.sql_database import SQLDatabase  # Toolkit is replaced with SQLDatabase\n",
    "from langchain.agents import AgentExecutor\n",
    "from langchain.callbacks.manager import CallbackManager\n",
    "from common.prompts import MSSQL_AGENT_PREFIX\n",
    "from IPython.display import Markdown, HTML, display  \n",
    "from dotenv import load_dotenv\n",
    "\n",
    "load_dotenv(\"credentials.env\")\n",
    "\n",
    "def printmd(string):\n",
    "    display(Markdown(string))\n",
    "\n",
    "printmd(\"##### Depedencies loaded...\")"
   ]
  },
  {
   "cell_type": "code",
   "execution_count": null,
   "metadata": {},
   "outputs": [],
   "source": [
    "# Set environment variables\n",
    "app_env = os.environ[\"AZURE_OPENAI_API_VERSION\"]\n",
    "\n",
    "print(f\"app_env: {app_env}\")"
   ]
  },
  {
   "cell_type": "code",
   "execution_count": null,
   "metadata": {},
   "outputs": [],
   "source": [
    "# Configure Logging\n",
    "import logging\n",
    "\n",
    "# Define a custom log format\n",
    "log_format = '%(asctime)s - %(name)s - %(levelname)s - %(message)s'\n",
    "\n",
    "# logging.basicConfig(level=logging.DEBUG)\n",
    "\n",
    "logging.basicConfig(level=logging.DEBUG, format=log_format)\n",
    "logger = logging.getLogger('langchain')\n",
    "\n",
    "printmd(\"##### Logger created...\")"
   ]
  },
  {
   "cell_type": "code",
   "execution_count": null,
   "metadata": {},
   "outputs": [],
   "source": [
    "from sqlalchemy import create_engine, text\n",
    "from sqlalchemy.engine import URL\n",
    "import os\n",
    "\n",
    "# Configuration for the database connection\n",
    "db_config = {\n",
    "    'drivername': 'mssql+pyodbc',\n",
    "    'username': os.environ[\"SQL_SERVER_USERNAME\"] + '@' + os.environ[\"SQL_SERVER_NAME\"],\n",
    "    'password': os.environ[\"SQL_SERVER_PASSWORD\"],\n",
    "    'host': os.environ[\"SQL_SERVER_NAME\"],\n",
    "    'port': 1433,\n",
    "    'database': os.environ[\"SQL_SERVER_DATABASE\"],\n",
    "    'query': {'driver': 'ODBC Driver 17 for SQL Server'},\n",
    "}\n",
    "\n",
    "# Create a URL object for connecting to the database\n",
    "db_url = URL.create(**db_config)\n",
    "\n",
    "# Connect to the Azure SQL Database using the URL string\n",
    "engine = create_engine(db_url)\n",
    "\n",
    "# Test the connection using the SQLAlchemy 2.0 execution style\n",
    "with engine.connect() as conn:\n",
    "    try:\n",
    "        # Use the text() construct for safer SQL execution\n",
    "        result = conn.execute(text(\"SELECT @@VERSION\"))\n",
    "        version = result.fetchone()\n",
    "        print(\"Connection successful!\")\n",
    "        print(version)\n",
    "    except Exception as e:\n",
    "        print(e)"
   ]
  },
  {
   "cell_type": "code",
   "execution_count": null,
   "metadata": {},
   "outputs": [],
   "source": [
    "llm = AzureChatOpenAI(deployment_name=os.environ[\"GPT35_DEPLOYMENT_NAME\"], temperature=0.5, max_tokens=2000, api_version=os.environ[\"AZURE_OPENAI_API_VERSION\"])\n",
    "# llm = AzureChatOpenAI(deployment_name=os.environ[\"AZURE_OPENAI_API_VERSION\"], temperature=0.5, max_tokens=2000)\n",
    "\n",
    "print(llm)"
   ]
  },
  {
   "cell_type": "code",
   "execution_count": null,
   "metadata": {},
   "outputs": [],
   "source": [
    "# Let's create the db object\n",
    "db = SQLDatabase.from_uri(db_url)\n",
    "\n",
    "# print(db.get_table_names())\n",
    "print(\"SqlAgent Created\")\n",
    "print(\"Found following tables:\")\n",
    "print(db.get_usable_table_names())"
   ]
  },
  {
   "cell_type": "code",
   "execution_count": null,
   "metadata": {},
   "outputs": [],
   "source": [
    "# Natural Language question (query)\n",
    "QUESTION = \"\"\"\n",
    "How may patients were hospitalized during July 2020 in Texas. \n",
    "And nationwide as the total of all states? \n",
    "Use the hospitalizedIncrease column\n",
    "\"\"\"\n",
    "printmd(f\"{QUESTION}\")"
   ]
  },
  {
   "cell_type": "code",
   "execution_count": null,
   "metadata": {},
   "outputs": [],
   "source": [
    "# Natural Language question (query)\n",
    "QUESTION = \"\"\"\n",
    "How many products are available in the inventory?\n",
    "\"\"\"\n",
    "printmd(f\"{QUESTION}\")"
   ]
  },
  {
   "cell_type": "code",
   "execution_count": null,
   "metadata": {},
   "outputs": [],
   "source": [
    "# Natural Language question (query)\n",
    "QUESTION = \"\"\"\n",
    "List the all of the rock products\n",
    "\"\"\"\n",
    "printmd(f\"{QUESTION}\")"
   ]
  },
  {
   "cell_type": "code",
   "execution_count": null,
   "metadata": {},
   "outputs": [],
   "source": [
    "# Natural Language question (query)\n",
    "QUESTION = \"\"\"\n",
    "What products include Bruce Springsteen?\n",
    "\"\"\"\n",
    "printmd(f\"{QUESTION}\")"
   ]
  },
  {
   "cell_type": "code",
   "execution_count": null,
   "metadata": {},
   "outputs": [],
   "source": [
    "# Create Callback Manager to capture SQL queries\n",
    "from langchain.callbacks.base import BaseCallbackHandler\n",
    "\n",
    "class SQLCallbackHandler(BaseCallbackHandler):\n",
    "    def on_tool_end(self, output, color=\"green\", **kwargs):\n",
    "        \"\"\"Run when tool ends running.\"\"\"\n",
    "        print(f\"SQL Query: {output}\")"
   ]
  },
  {
   "cell_type": "code",
   "execution_count": null,
   "metadata": {},
   "outputs": [],
   "source": [
    "toolkit = SQLDatabaseToolkit(db=db, llm=llm)\n",
    "\n",
    "try:\n",
    "    agent_executor = create_sql_agent(\n",
    "        prefix=MSSQL_AGENT_PREFIX,\n",
    "        llm=llm,\n",
    "        toolkit=toolkit,\n",
    "        top_k=30,\n",
    "        agent_type=\"openai-tools\",\n",
    "        verbose=True,\n",
    "        callback_manager=CallbackManager([SQLCallbackHandler()]),\n",
    "        agent_executor_kwargs={\"return_intermediate_steps\": True},\n",
    "    )\n",
    "except Exception as e:\n",
    "    print(f\"An error occurred while creating the agent_executor: {str(e)}\")\n",
    "    agent_executor = None  # Set agent_executor to None or handle it as needed\n",
    "\n",
    "# Continue with the rest of your code, checking if agent_executor was created successfully\n",
    "if agent_executor:\n",
    "    printmd(f\"##### Agent Executor Created\")"
   ]
  },
  {
   "cell_type": "code",
   "execution_count": null,
   "metadata": {},
   "outputs": [],
   "source": [
    "# As we know by now, Agents use expert/tools. Let's see which are the tools for this SQL Agent\n",
    "agent_executor.tools"
   ]
  },
  {
   "cell_type": "code",
   "execution_count": null,
   "metadata": {},
   "outputs": [],
   "source": [
    "show_details = False\n",
    "\n",
    "try:\n",
    "    response = agent_executor.invoke(QUESTION) \n",
    "except Exception as e:\n",
    "    response = str(e)\n",
    "\n",
    "# printmd(f\"**Response:** {response}\")\n",
    "\n",
    "# for step in response['intermediate_steps']:\n",
    "#     action = step.get('action', '')  # Use .get to handle missing keys\n",
    "#     observation = step.get('observation', '')\n",
    "#     print(f\"Action: {action}\\nObservation: {observation}\\n\")\n",
    "\n",
    "if show_details: \n",
    "\n",
    "    for step in response['intermediate_steps']:\n",
    "        if isinstance(step, dict):\n",
    "            action = step.get('action', '')\n",
    "            observation = step.get('observation', '')\n",
    "        elif isinstance(step, tuple):\n",
    "            action, observation = step \n",
    "        else:\n",
    "            print(f\"Unexpected step type: {type(step)}\")\n",
    "            continue  # Skip this step if it's neither dict nor tuple\n",
    "        print(f\"Action: {action}\\nObservation: {observation}\\n\")\n",
    "else:\n",
    "    print(\"No details to show\")\n",
    "\n",
    "# print(response['intermediate_steps'])"
   ]
  },
  {
   "cell_type": "code",
   "execution_count": null,
   "metadata": {},
   "outputs": [],
   "source": [
    "print (response[\"output\"])"
   ]
  }
 ],
 "metadata": {
  "kernelspec": {
   "display_name": "base",
   "language": "python",
   "name": "python3"
  },
  "language_info": {
   "codemirror_mode": {
    "name": "ipython",
    "version": 3
   },
   "file_extension": ".py",
   "mimetype": "text/x-python",
   "name": "python",
   "nbconvert_exporter": "python",
   "pygments_lexer": "ipython3",
   "version": "3.12.1"
  }
 },
 "nbformat": 4,
 "nbformat_minor": 2
}
