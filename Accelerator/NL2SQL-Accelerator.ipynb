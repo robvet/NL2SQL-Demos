{
 "cells": [
  {
   "cell_type": "markdown",
   "metadata": {},
   "source": [
    "# NL2SQL leveraging the Azure Accelerator"
   ]
  },
  {
   "cell_type": "code",
   "execution_count": 1,
   "metadata": {},
   "outputs": [
    {
     "data": {
      "text/markdown": [
       "##### Depedencies loaded..."
      ],
      "text/plain": [
       "<IPython.core.display.Markdown object>"
      ]
     },
     "metadata": {},
     "output_type": "display_data"
    },
    {
     "data": {
      "text/markdown": [
       "app_env: 2023-12-01-preview"
      ],
      "text/plain": [
       "<IPython.core.display.Markdown object>"
      ]
     },
     "metadata": {},
     "output_type": "display_data"
    }
   ],
   "source": [
    "# This code block imports necessary libraries and modules for connecting to databases, processing data, \n",
    "# and utilizing the LangChain framework for SQL generation from natural language. It also sets up \n",
    "# environment variables and defines a function for Markdown display in Jupyter notebooks.\n",
    "import os\n",
    "import pandas as pd\n",
    "import pyodbc\n",
    "from langchain_openai import AzureChatOpenAI\n",
    "from langchain_community.agent_toolkits import create_sql_agent, SQLDatabaseToolkit\n",
    "# from langchain.agents import create_sql_agent \n",
    "from langchain.agents import initialize_agent\n",
    "from langchain.agents import Tool\n",
    "from langchain.agents import create_sql_agent  # No longer in agent_toolkits\n",
    "from langchain.sql_database import SQLDatabase  # Toolkit is replaced with SQLDatabase\n",
    "from langchain.agents import AgentExecutor\n",
    "from langchain.callbacks.manager import CallbackManager\n",
    "from common.prompts import MSSQL_AGENT_PREFIX\n",
    "from IPython.display import Markdown, HTML, display  \n",
    "from dotenv import load_dotenv\n",
    "\n",
    "# load secrets from .env file\n",
    "load_dotenv(\"credentials.env\")\n",
    "\n",
    "# Function to print markdown comments\n",
    "def printmd(string):\n",
    "    display(Markdown(string))\n",
    "\n",
    "printmd(\"##### Depedencies loaded...\")\n",
    "\n",
    "# Set environment variables\n",
    "app_env = os.environ[\"AZURE_OPENAI_API_VERSION\"]\n",
    "\n",
    "printmd(f\"app_env: {app_env}\")"
   ]
  },
  {
   "cell_type": "code",
   "execution_count": 2,
   "metadata": {},
   "outputs": [
    {
     "data": {
      "text/markdown": [
       "##### Logger created..."
      ],
      "text/plain": [
       "<IPython.core.display.Markdown object>"
      ]
     },
     "metadata": {},
     "output_type": "display_data"
    }
   ],
   "source": [
    "# This code block sets up logging for the application. \n",
    "# It defines a custom log format that includes the timestamp, \n",
    "# logger name, log level, and the log message. # \n",
    "import logging\n",
    "\n",
    "# Define a custom log format\n",
    "log_format = '%(asctime)s - %(name)s - %(levelname)s - %(message)s'\n",
    "\n",
    "# logging.basicConfig(level=logging.DEBUG)\n",
    "# logging.basicConfig(level=logging.DEBUG, format=log_format)\n",
    "\n",
    "logging.basicConfig(level=logging.INFO, format=log_format)\n",
    "\n",
    "logger = logging.getLogger('langchain')\n",
    "\n",
    "printmd(\"##### Logger created...\")"
   ]
  },
  {
   "cell_type": "code",
   "execution_count": 3,
   "metadata": {},
   "outputs": [
    {
     "name": "stdout",
     "output_type": "stream",
     "text": [
      "Connection successful!\n",
      "('Microsoft SQL Azure (RTM) - 12.0.2000.8 \\n\\tJun 19 2024 16:01:48 \\n\\tCopyright (C) 2022 Microsoft Corporation\\n',)\n",
      "SqlAgent Created. Found following tables:\n",
      "['Artists', 'Conditions', 'Descriptions', 'Genres', 'Mediums', 'Products', 'Status', 'sysdiagrams']\n"
     ]
    },
    {
     "data": {
      "text/markdown": [
       "Done!"
      ],
      "text/plain": [
       "<IPython.core.display.Markdown object>"
      ]
     },
     "metadata": {},
     "output_type": "display_data"
    }
   ],
   "source": [
    "# Connect to Azure SQL Database using SQLAlchemy and pyodbc. \n",
    "from sqlalchemy import create_engine, text\n",
    "from sqlalchemy.engine import URL\n",
    "import os\n",
    "\n",
    "# Configuration for the database connection\n",
    "db_config = {\n",
    "    'drivername': 'mssql+pyodbc',\n",
    "    'username': os.environ[\"SQL_SERVER_USERNAME\"] + '@' + os.environ[\"SQL_SERVER_NAME\"],\n",
    "    'password': os.environ[\"SQL_SERVER_PASSWORD\"],\n",
    "    'host': os.environ[\"SQL_SERVER_NAME\"],\n",
    "    'port': 1433,\n",
    "    'database': os.environ[\"SQL_SERVER_DATABASE\"],\n",
    "    'query': {'driver': 'ODBC Driver 17 for SQL Server'},\n",
    "}\n",
    "\n",
    "# Create a URL object for connecting to the database\n",
    "db_url = URL.create(**db_config)\n",
    "\n",
    "# Connect to the Azure SQL Database using the URL string\n",
    "engine = create_engine(db_url)\n",
    "\n",
    "# Test the connection using the SQLAlchemy 2.0 execution style\n",
    "with engine.connect() as conn:\n",
    "    try:\n",
    "        # Use the text() construct for safer SQL execution\n",
    "        result = conn.execute(text(\"SELECT @@VERSION\"))\n",
    "        version = result.fetchone()\n",
    "        print(\"Connection successful!\")\n",
    "        print(version)\n",
    "    except Exception as e:\n",
    "        print(e)\n",
    "\n",
    "# Create SQLDatabase class. \n",
    "# For Langchain, it connectd and interactd with SQL databases.\n",
    "# It serves as an interface to perform operations like querying data\n",
    "# and fetching results, integrating with the language model.\n",
    "db = SQLDatabase.from_uri(db_url)\n",
    "\n",
    "# Test the connection to the database by fetching the table names\n",
    "print(\"SqlAgent Created. Found following tables:\")\n",
    "print(db.get_usable_table_names())\n",
    "\n",
    "printmd(f\"Done!\")"
   ]
  },
  {
   "cell_type": "code",
   "execution_count": null,
   "metadata": {},
   "outputs": [],
   "source": [
    "# # Initialize instance of AzureChatOpenAI \n",
    "# llm = AzureChatOpenAI(deployment_name=os.environ[\"GPT35_DEPLOYMENT_NAME\"], temperature=0.5, max_tokens=2000, api_version=os.environ[\"AZURE_OPENAI_API_VERSION\"])\n",
    "# printmd(f\"LLM Created: {llm.deployment_name}\")\n",
    "\n",
    "# # Create SQLDatabase class. \n",
    "# # For Langchain, it connectd and interactd with SQL databases.\n",
    "# # It serves as an interface to perform operations like querying data\n",
    "# # and fetching results, integrating with the language model.\n",
    "# db = SQLDatabase.from_uri(db_url)\n",
    "\n",
    "# # Test the connection to the database by fetching the table names\n",
    "# print(\"SqlAgent Created. Found following tables:\")\n",
    "# print(db.get_usable_table_names())"
   ]
  },
  {
   "cell_type": "markdown",
   "metadata": {},
   "source": [
    "# Pick a Prompt from the following selection"
   ]
  },
  {
   "cell_type": "code",
   "execution_count": null,
   "metadata": {},
   "outputs": [],
   "source": [
    "# Natural Language question (query)\n",
    "QUESTION = \"\"\"\n",
    "How may patients were hospitalized during July 2020 in Texas. \n",
    "And nationwide as the total of all states? \n",
    "Use the hospitalizedIncrease column\n",
    "\"\"\"\n",
    "printmd(f\"{QUESTION}\")"
   ]
  },
  {
   "cell_type": "code",
   "execution_count": 4,
   "metadata": {},
   "outputs": [
    {
     "data": {
      "text/markdown": [
       "\n",
       "How many products are available in the inventory?\n"
      ],
      "text/plain": [
       "<IPython.core.display.Markdown object>"
      ]
     },
     "metadata": {},
     "output_type": "display_data"
    }
   ],
   "source": [
    "# Natural Language question (query)\n",
    "QUESTION = \"\"\"\n",
    "How many products are available in the inventory?\n",
    "\"\"\"\n",
    "printmd(f\"{QUESTION}\")"
   ]
  },
  {
   "cell_type": "code",
   "execution_count": null,
   "metadata": {},
   "outputs": [],
   "source": [
    "# Natural Language question (query)\n",
    "QUESTION = \"\"\"\n",
    "List the all of the rock products\n",
    "\"\"\"\n",
    "printmd(f\"{QUESTION}\")"
   ]
  },
  {
   "cell_type": "code",
   "execution_count": null,
   "metadata": {},
   "outputs": [],
   "source": [
    "# Natural Language question (query)\n",
    "QUESTION = \"\"\"\n",
    "What products include Bruce Springsteen?\n",
    "\"\"\"\n",
    "printmd(f\"{QUESTION}\")"
   ]
  },
  {
   "cell_type": "code",
   "execution_count": 5,
   "metadata": {},
   "outputs": [
    {
     "data": {
      "text/markdown": [
       "LLM Created: gpt4-o"
      ],
      "text/plain": [
       "<IPython.core.display.Markdown object>"
      ]
     },
     "metadata": {},
     "output_type": "display_data"
    },
    {
     "data": {
      "text/markdown": [
       "##### Agent Executor Created"
      ],
      "text/plain": [
       "<IPython.core.display.Markdown object>"
      ]
     },
     "metadata": {},
     "output_type": "display_data"
    },
    {
     "data": {
      "text/plain": [
       "[QuerySQLDataBaseTool(description=\"Input to this tool is a detailed and correct SQL query, output is a result from the database. If the query is not correct, an error message will be returned. If an error is returned, rewrite the query, check the query, and try again. If you encounter an issue with Unknown column 'xxxx' in 'field list', use sql_db_schema to query the correct table fields.\", db=<langchain_community.utilities.sql_database.SQLDatabase object at 0x0000016851E56A50>),\n",
       " InfoSQLDatabaseTool(description='Input to this tool is a comma-separated list of tables, output is the schema and sample rows for those tables. Be sure that the tables actually exist by calling sql_db_list_tables first! Example Input: table1, table2, table3', db=<langchain_community.utilities.sql_database.SQLDatabase object at 0x0000016851E56A50>),\n",
       " ListSQLDatabaseTool(db=<langchain_community.utilities.sql_database.SQLDatabase object at 0x0000016851E56A50>),\n",
       " QuerySQLCheckerTool(description='Use this tool to double check if your query is correct before executing it. Always use this tool before executing a query with sql_db_query!', db=<langchain_community.utilities.sql_database.SQLDatabase object at 0x0000016851E56A50>, llm=AzureChatOpenAI(client=<openai.resources.chat.completions.Completions object at 0x00000168656145C0>, async_client=<openai.resources.chat.completions.AsyncCompletions object at 0x0000016865615820>, temperature=0.5, openai_api_key=SecretStr('**********'), openai_proxy='', max_tokens=2000, azure_endpoint='https://ai-west-openai.openai.azure.com/', deployment_name='gpt4-o', openai_api_version='2023-12-01-preview', openai_api_type='azure'), llm_chain=LLMChain(prompt=PromptTemplate(input_variables=['dialect', 'query'], template='\\n{query}\\nDouble check the {dialect} query above for common mistakes, including:\\n- Using NOT IN with NULL values\\n- Using UNION when UNION ALL should have been used\\n- Using BETWEEN for exclusive ranges\\n- Data type mismatch in predicates\\n- Properly quoting identifiers\\n- Using the correct number of arguments for functions\\n- Casting to the correct data type\\n- Using the proper columns for joins\\n\\nIf there are any of the above mistakes, rewrite the query. If there are no mistakes, just reproduce the original query.\\n\\nOutput the final SQL query only.\\n\\nSQL Query: '), llm=AzureChatOpenAI(client=<openai.resources.chat.completions.Completions object at 0x00000168656145C0>, async_client=<openai.resources.chat.completions.AsyncCompletions object at 0x0000016865615820>, temperature=0.5, openai_api_key=SecretStr('**********'), openai_proxy='', max_tokens=2000, azure_endpoint='https://ai-west-openai.openai.azure.com/', deployment_name='gpt4-o', openai_api_version='2023-12-01-preview', openai_api_type='azure')))]"
      ]
     },
     "execution_count": 5,
     "metadata": {},
     "output_type": "execute_result"
    }
   ],
   "source": [
    "# Initialize instance of AzureChatOpenAI \n",
    "llm = AzureChatOpenAI(deployment_name=os.environ[\"GPT35_DEPLOYMENT_NAME\"], temperature=0.5, max_tokens=2000, api_version=os.environ[\"AZURE_OPENAI_API_VERSION\"])\n",
    "printmd(f\"LLM Created: {llm.deployment_name}\")\n",
    "\n",
    "# system_prompt = f\"Given the following SQL database schema, write a SQL query to answer the following question:\"\n",
    "system_prompt = (\n",
    "    \"You are a LangChain SQL agent designed to generate accurate SQL statements from natural language text inputs. \"\n",
    "    \"Your primary responsibilities include:\\n\\n\"\n",
    "    \"- Parsing natural language queries to identify key components such as tables, columns, conditions, and operations.\\n\"\n",
    "    \"- Generating well-formed SQL statements that precisely match the intent and constraints described in the input text.\\n\"\n",
    "    \"- Handling various SQL operations including SELECT, INSERT, UPDATE, DELETE, and complex joins.\\n\"\n",
    "    \"- Validating the generated SQL against the provided database schema to ensure correctness.\"\n",
    ")\n",
    "\n",
    "# SQLDatabaseToolkit is a utility for interacting with a SQL database using a language model (LLM).\n",
    "# It facilitate the integration between the database and the language model, enabling more sophisticated\n",
    "# query generation, execution, and result handling.\n",
    "# Parameters in the SQLDatabase class and the LLM.\n",
    "toolkit = SQLDatabaseToolkit(db=db, llm=llm)\n",
    "\n",
    "# Create the SqlAgent\n",
    "# SqlAgent interacts with directly with the SQL database. \n",
    "# It leverages the LLM to generate SQL queries from natural language input\n",
    "# and then execute these queries on the connected database. \n",
    "# Note how the SqlAgent leverges the SQLDatabaseToolkit and the language model (LLM). \n",
    "# try:\n",
    "    # agent_executor = create_sql_agent(\n",
    "    #     prefix=MSSQL_AGENT_PREFIX,\n",
    "    #     llm=llm,\n",
    "    #     toolkit=toolkit,\n",
    "    #     top_k=30,\n",
    "    #     agent_type=\"openai-tools\",\n",
    "    #     verbose=True,\n",
    "    #     agent_executor_kwargs={\"return_intermediate_steps\": True},\n",
    "    #     system_prompt=system_prompt  # Step 2: Pass the system prompt to the AgentExecutor\n",
    "    # )\n",
    "try:\n",
    "    sql_agent = create_sql_agent(\n",
    "        prefix=MSSQL_AGENT_PREFIX,\n",
    "        llm=llm,\n",
    "        toolkit=toolkit,\n",
    "        top_k=30,\n",
    "        agent_type=\"openai-tools\",\n",
    "        verbose=True,\n",
    "        agent_executor_kwargs={\"return_intermediate_steps\": True},\n",
    "        system_prompt=system_prompt  # Step 2: Pass the system prompt to the AgentExecutor\n",
    "    )\n",
    "except Exception as e:\n",
    "    print(f\"An error occurred while creating the agent_executor: {str(e)}\")\n",
    "    sql_agent = None  # Set agent_executor to None or handle it as needed\n",
    "\n",
    "# Continue with the rest of your code, checking if agent_executor was created successfully\n",
    "if sql_agent:\n",
    "    printmd(f\"##### Agent Executor Created\")\n",
    "\n",
    "# Langchain agents use expert/tools. List the tools for SQL Agent\n",
    "sql_agent.tools\n",
    "\n",
    "printmd(f\"Complete\")"
   ]
  },
  {
   "cell_type": "code",
   "execution_count": 7,
   "metadata": {},
   "outputs": [
    {
     "name": "stdout",
     "output_type": "stream",
     "text": [
      "\n",
      "\n",
      "\u001b[1m> Entering new SQL Agent Executor chain...\u001b[0m\n"
     ]
    },
    {
     "name": "stderr",
     "output_type": "stream",
     "text": [
      "2024-07-16 19:25:16,537 - httpx - INFO - HTTP Request: POST https://ai-west-openai.openai.azure.com//openai/deployments/gpt4-o/chat/completions?api-version=2023-12-01-preview \"HTTP/1.1 200 OK\"\n"
     ]
    },
    {
     "name": "stdout",
     "output_type": "stream",
     "text": [
      "\u001b[32;1m\u001b[1;3m\n",
      "Invoking: `sql_db_list_tables` with `{}`\n",
      "\n",
      "\n",
      "\u001b[0m\u001b[38;5;200m\u001b[1;3mArtists, Conditions, Descriptions, Genres, Mediums, Products, Status, sysdiagrams\u001b[0m"
     ]
    },
    {
     "name": "stderr",
     "output_type": "stream",
     "text": [
      "2024-07-16 19:25:17,040 - httpx - INFO - HTTP Request: POST https://ai-west-openai.openai.azure.com//openai/deployments/gpt4-o/chat/completions?api-version=2023-12-01-preview \"HTTP/1.1 200 OK\"\n"
     ]
    },
    {
     "name": "stdout",
     "output_type": "stream",
     "text": [
      "\u001b[32;1m\u001b[1;3m\n",
      "Invoking: `sql_db_schema` with `{'table_names': 'Products'}`\n",
      "\n",
      "\n",
      "\u001b[0m\u001b[33;1m\u001b[1;3m\n",
      "CREATE TABLE [Products] (\n",
      "\t[Id] INTEGER NOT NULL IDENTITY(1,1), \n",
      "\t[ProductId] UNIQUEIDENTIFIER NOT NULL, \n",
      "\t[GenreId] INTEGER NOT NULL, \n",
      "\t[ArtistId] INTEGER NOT NULL, \n",
      "\t[StatusId] INTEGER NOT NULL, \n",
      "\t[MediumId] INTEGER NOT NULL, \n",
      "\t[ConditionId] INTEGER NOT NULL, \n",
      "\t[Title] NVARCHAR(160) COLLATE SQL_Latin1_General_CP1_CI_AS NOT NULL, \n",
      "\t[Single] NVARCHAR(max) COLLATE SQL_Latin1_General_CP1_CI_AS NULL, \n",
      "\t[AlbumArtUrl] NVARCHAR(160) COLLATE SQL_Latin1_General_CP1_CI_AS NULL, \n",
      "\t[Price] DECIMAL(18, 2) NOT NULL, \n",
      "\t[Cost] DECIMAL(18, 2) NOT NULL, \n",
      "\t[ParentalCaution] BIT NOT NULL DEFAULT ((0)), \n",
      "\t[UPC] NCHAR(20) COLLATE SQL_Latin1_General_CP1_CI_AS NOT NULL, \n",
      "\t[ReleaseYear] NVARCHAR(max) COLLATE SQL_Latin1_General_CP1_CI_AS NULL, \n",
      "\t[HighValueItem] BIT NOT NULL, \n",
      "\t[CreateDate] DATETIME2 NOT NULL DEFAULT (getdate()), \n",
      "\t[RemoveDate] DATETIME2 NULL, \n",
      "\t[IsActive] BIT NOT NULL DEFAULT ((1)), \n",
      "\tCONSTRAINT [PK_Products] PRIMARY KEY ([Id]), \n",
      "\tCONSTRAINT [FK_Albums_Artists] FOREIGN KEY([ArtistId]) REFERENCES [Artists] ([ArtistId]), \n",
      "\tCONSTRAINT [FK_Albums_Condition] FOREIGN KEY([ConditionId]) REFERENCES [Conditions] ([ConditionId]), \n",
      "\tCONSTRAINT [FK_Albums_Genres] FOREIGN KEY([GenreId]) REFERENCES [Genres] ([GenreId]), \n",
      "\tCONSTRAINT [FK_Albums_Medium] FOREIGN KEY([MediumId]) REFERENCES [Mediums] ([MediumId]), \n",
      "\tCONSTRAINT [FK_Albums_Status] FOREIGN KEY([StatusId]) REFERENCES [Status] ([StatusId])\n",
      ")\n",
      "\n",
      "/*\n",
      "3 rows from Products table:\n",
      "Id\tProductId\tGenreId\tArtistId\tStatusId\tMediumId\tConditionId\tTitle\tSingle\tAlbumArtUrl\tPrice\tCost\tParentalCaution\tUPC\tReleaseYear\tHighValueItem\tCreateDate\tRemoveDate\tIsActive\n",
      "2\td327094f-7a2b-4efb-bc17-69920934502d\t2\t72\t2\t5\t2\tAmerican Idiot\tBoulevard of Broken Dreams\tNone\t109.93\t32.98\tFalse\t281625225114        \t2004\tFalse\t2023-07-03 15:17:15.483537\tNone\tTrue\n",
      "3\t10a33854-2e65-4763-b59a-dbf9954b117b\t2\t126\t2\t2\t2\tBlood Sugar Sex Magik\tBreaking the Girl\tNone\t71.92\t24.45\tFalse\t904921871870        \t1991\tFalse\t2023-07-03 15:17:16.002072\tNone\tTrue\n",
      "4\t3960c278-0807-42d8-a0af-c0682647954d\t2\t31\t2\t2\t2\tCollective Soul\tDecember\tNone\t119.02\t57.13\tFalse\t049371912661        \t1995\tTrue\t2023-07-03 15:17:16.312660\tNone\tTrue\n",
      "*/\u001b[0m"
     ]
    },
    {
     "name": "stderr",
     "output_type": "stream",
     "text": [
      "2024-07-16 19:25:17,852 - httpx - INFO - HTTP Request: POST https://ai-west-openai.openai.azure.com//openai/deployments/gpt4-o/chat/completions?api-version=2023-12-01-preview \"HTTP/1.1 200 OK\"\n"
     ]
    },
    {
     "name": "stdout",
     "output_type": "stream",
     "text": [
      "\u001b[32;1m\u001b[1;3m\n",
      "Invoking: `sql_db_query_checker` with `{'query': 'SELECT COUNT(*) AS TotalProducts FROM Products WHERE IsActive = 1'}`\n",
      "\n",
      "\n",
      "\u001b[0m"
     ]
    },
    {
     "name": "stderr",
     "output_type": "stream",
     "text": [
      "2024-07-16 19:25:18,984 - httpx - INFO - HTTP Request: POST https://ai-west-openai.openai.azure.com//openai/deployments/gpt4-o/chat/completions?api-version=2023-12-01-preview \"HTTP/1.1 200 OK\"\n"
     ]
    },
    {
     "name": "stdout",
     "output_type": "stream",
     "text": [
      "\u001b[36;1m\u001b[1;3m```sql\n",
      "SELECT COUNT(*) AS TotalProducts FROM Products WHERE IsActive = 1\n",
      "```\u001b[0m"
     ]
    },
    {
     "name": "stderr",
     "output_type": "stream",
     "text": [
      "2024-07-16 19:25:19,524 - httpx - INFO - HTTP Request: POST https://ai-west-openai.openai.azure.com//openai/deployments/gpt4-o/chat/completions?api-version=2023-12-01-preview \"HTTP/1.1 200 OK\"\n"
     ]
    },
    {
     "name": "stdout",
     "output_type": "stream",
     "text": [
      "\u001b[32;1m\u001b[1;3m\n",
      "Invoking: `sql_db_query` with `{'query': 'SELECT COUNT(*) AS TotalProducts FROM Products WHERE IsActive = 1'}`\n",
      "\n",
      "\n",
      "\u001b[0m\u001b[36;1m\u001b[1;3m[(185,)]\u001b[0m"
     ]
    },
    {
     "name": "stderr",
     "output_type": "stream",
     "text": [
      "2024-07-16 19:25:20,357 - httpx - INFO - HTTP Request: POST https://ai-west-openai.openai.azure.com//openai/deployments/gpt4-o/chat/completions?api-version=2023-12-01-preview \"HTTP/1.1 200 OK\"\n"
     ]
    },
    {
     "name": "stdout",
     "output_type": "stream",
     "text": [
      "\u001b[32;1m\u001b[1;3mFinal Answer: There are 185 products available in the inventory.\n",
      "\n",
      "Explanation:\n",
      "I queried the `Products` table to count the number of products where the `IsActive` column is set to 1, indicating that the product is available in the inventory. The SQL query used is:\n",
      "\n",
      "```sql\n",
      "SELECT COUNT(*) AS TotalProducts FROM Products WHERE IsActive = 1\n",
      "```\n",
      "This query returned a count of 185 products.\u001b[0m\n",
      "\n",
      "\u001b[1m> Finished chain.\u001b[0m\n"
     ]
    }
   ],
   "source": [
    "show_details = False\n",
    "\n",
    "try:\n",
    "    response = sql_agent.invoke(QUESTION) \n",
    "except Exception as e:\n",
    "    response = str(e)\n",
    "\n",
    "# Advanced logging block\n",
    "# Block iterates through the intermediate steps of the response \n",
    "# and prints the action and observation for each step.\n",
    "# This is a common pattern for displaying detailed information based on \n",
    "# the content of data structures and conditional flag in Python\n",
    "# Importantly, the block reveals the agent's decision-making process.\n",
    "if show_details: \n",
    "    # Iterate through each step in the 'intermediate_steps' list from the response\n",
    "    for step in response['intermediate_steps']:\n",
    "         # Check if the current step is a dictionary\n",
    "        if isinstance(step, dict):\n",
    "            # Extract 'action' and 'observation' from the step, defaulting to empty string if not found\n",
    "            action = step.get('action', '')\n",
    "            observation = step.get('observation', '')\n",
    "        # Check if the current step is a tuple (assumed to be a pair of action and observation)\n",
    "        elif isinstance(step, tuple):\n",
    "            # Unpack the tuple directly into action and observation variables\n",
    "            action, observation = step \n",
    "        else:\n",
    "            # Handle unexpected step types by printing a warning and skipping the current iteration\n",
    "            print(f\"Unexpected step type: {type(step)}\")\n",
    "            continue  # Skip this step if it's neither dict nor tuple\n",
    "        # Print the action and observation for the current step\n",
    "        print(f\"Action: {action}\\nObservation: {observation}\\n\")\n",
    "# else:\n",
    "#     # If the flag to show details is not set, indicate that there are no details to show\n",
    "#     print(\"No details to show\")\n",
    "\n",
    "# print(response['intermediate_steps'])"
   ]
  },
  {
   "cell_type": "code",
   "execution_count": 8,
   "metadata": {},
   "outputs": [
    {
     "name": "stdout",
     "output_type": "stream",
     "text": [
      "Final Answer: There are 185 products available in the inventory.\n",
      "\n",
      "Explanation:\n",
      "I queried the `Products` table to count the number of products where the `IsActive` column is set to 1, indicating that the product is available in the inventory. The SQL query used is:\n",
      "\n",
      "```sql\n",
      "SELECT COUNT(*) AS TotalProducts FROM Products WHERE IsActive = 1\n",
      "```\n",
      "This query returned a count of 185 products.\n"
     ]
    }
   ],
   "source": [
    "# Final print statement\n",
    "print (response[\"output\"])"
   ]
  }
 ],
 "metadata": {
  "kernelspec": {
   "display_name": "base",
   "language": "python",
   "name": "python3"
  },
  "language_info": {
   "codemirror_mode": {
    "name": "ipython",
    "version": 3
   },
   "file_extension": ".py",
   "mimetype": "text/x-python",
   "name": "python",
   "nbconvert_exporter": "python",
   "pygments_lexer": "ipython3",
   "version": "3.12.1"
  }
 },
 "nbformat": 4,
 "nbformat_minor": 2
}
